{
 "cells": [
  {
   "cell_type": "code",
   "execution_count": 5,
   "metadata": {},
   "outputs": [],
   "source": [
    "import os\n",
    "import librosa\n",
    "import soundfile as sf\n",
    "from tqdm import tqdm"
   ]
  },
  {
   "cell_type": "code",
   "execution_count": 8,
   "metadata": {},
   "outputs": [],
   "source": [
    "# Specify the input and output directories\n",
    "input_dir = r'Dataset\\audio\\Shit'\n",
    "output_dir = r'Dataset\\audio\\Shit_mono'"
   ]
  },
  {
   "cell_type": "code",
   "execution_count": 9,
   "metadata": {},
   "outputs": [
    {
     "name": "stderr",
     "output_type": "stream",
     "text": [
      "100%|██████████| 100/100 [00:00<00:00, 181.39it/s]\n"
     ]
    }
   ],
   "source": [
    "for audio_file in tqdm(os.listdir(input_dir)):\n",
    "\tinput_path = os.path.join(input_dir, audio_file)\n",
    "\toutput_path = os.path.join(output_dir, audio_file)\n",
    "\n",
    "\t# Load stereo audio and convert to mono\n",
    "\tstereo_audio, sr = librosa.load(input_path, sr=None, mono=False)\n",
    "\tmono_audio = librosa.to_mono(stereo_audio)\n",
    "\n",
    "\t# Write the mono audio to a WAV file using soundfile\n",
    "\tsf.write(output_path, mono_audio, sr)"
   ]
  }
 ],
 "metadata": {
  "kernelspec": {
   "display_name": ".venv",
   "language": "python",
   "name": "python3"
  },
  "language_info": {
   "codemirror_mode": {
    "name": "ipython",
    "version": 3
   },
   "file_extension": ".py",
   "mimetype": "text/x-python",
   "name": "python",
   "nbconvert_exporter": "python",
   "pygments_lexer": "ipython3",
   "version": "3.10.8"
  }
 },
 "nbformat": 4,
 "nbformat_minor": 2
}
