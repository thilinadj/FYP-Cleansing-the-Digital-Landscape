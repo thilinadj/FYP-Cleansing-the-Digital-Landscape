{
 "cells": [
  {
   "cell_type": "code",
   "execution_count": 1,
   "metadata": {},
   "outputs": [],
   "source": [
    "import os\n",
    "import librosa\n",
    "import soundfile as sf\n",
    "from tqdm import tqdm\n",
    "from shared_data.shared_data import stereo_audio_path, mono_audio_path"
   ]
  },
  {
   "cell_type": "code",
   "execution_count": 2,
   "metadata": {},
   "outputs": [],
   "source": [
    "# Specify the input and output directories\n",
    "input_dir = stereo_audio_path\n",
    "output_dir = mono_audio_path"
   ]
  },
  {
   "cell_type": "code",
   "execution_count": 5,
   "metadata": {},
   "outputs": [
    {
     "name": "stderr",
     "output_type": "stream",
     "text": [
      "100%|██████████| 100/100 [00:00<00:00, 179.59it/s]\n"
     ]
    }
   ],
   "source": [
    "for audio_file in tqdm(os.listdir(input_dir+r'\\Shit')):\n",
    "\tinput_path = os.path.join(input_dir, 'Shit', audio_file)\n",
    "\toutput_path = os.path.join(output_dir, 'Shit', audio_file)\n",
    "\n",
    "\t# Load stereo audio and convert to mono\n",
    "\tstereo_audio, sr = librosa.load(input_path, sr=16_000, mono=False)\n",
    "\tmono_audio = librosa.to_mono(stereo_audio)\n",
    "\n",
    "\t# Write the mono audio to a WAV file using soundfile\n",
    "\tsf.write(output_path, mono_audio, sr)"
   ]
  }
 ],
 "metadata": {
  "kernelspec": {
   "display_name": ".venv",
   "language": "python",
   "name": "python3"
  },
  "language_info": {
   "codemirror_mode": {
    "name": "ipython",
    "version": 3
   },
   "file_extension": ".py",
   "mimetype": "text/x-python",
   "name": "python",
   "nbconvert_exporter": "python",
   "pygments_lexer": "ipython3",
   "version": "3.10.8"
  }
 },
 "nbformat": 4,
 "nbformat_minor": 2
}
