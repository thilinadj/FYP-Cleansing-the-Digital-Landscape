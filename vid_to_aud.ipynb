{
 "cells": [
  {
   "cell_type": "code",
   "execution_count": 2,
   "metadata": {},
   "outputs": [],
   "source": [
    "import os\n",
    "from moviepy.video.io.VideoFileClip import VideoFileClip\n",
    "from shared_data.shared_data import video_dataset_path, stereo_audio_path"
   ]
  },
  {
   "cell_type": "code",
   "execution_count": 3,
   "metadata": {},
   "outputs": [],
   "source": [
    "\n",
    "video_directory = video_dataset_path\n",
    "\n",
    "# Define the output directory for audio files\n",
    "output_directory = stereo_audio_path"
   ]
  },
  {
   "cell_type": "code",
   "execution_count": 4,
   "metadata": {},
   "outputs": [],
   "source": [
    "def mp4_to_wav(video_path, output_audio_path):\n",
    "\tvideo_clip = VideoFileClip(video_path)\n",
    "\taudio_clip = video_clip.audio\n",
    "\taudio_clip.write_audiofile(output_audio_path, codec=\"pcm_s16le\")\n",
    "\taudio_clip.close()\n",
    "\tvideo_clip.close()\n"
   ]
  },
  {
   "cell_type": "code",
   "execution_count": null,
   "metadata": {},
   "outputs": [],
   "source": [
    "for root, dirs, files in os.walk(video_directory):\n",
    "  for file in files:\n",
    "    mp4_path = os.path.join(root, file)\n",
    "    label = str(root).split(\"\\\\\")[-1]\n",
    "    audio_name = f\"{''.join(file.split('.')[:-1])}.wav\"\n",
    "    wav_path = os.path.join(output_directory, label, audio_name)\n",
    "    mp4_to_wav(mp4_path, wav_path)"
   ]
  }
 ],
 "metadata": {
  "kernelspec": {
   "display_name": ".venv",
   "language": "python",
   "name": "python3"
  },
  "language_info": {
   "codemirror_mode": {
    "name": "ipython",
    "version": 3
   },
   "file_extension": ".py",
   "mimetype": "text/x-python",
   "name": "python",
   "nbconvert_exporter": "python",
   "pygments_lexer": "ipython3",
   "version": "3.10.8"
  }
 },
 "nbformat": 4,
 "nbformat_minor": 2
}
